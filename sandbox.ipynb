{
 "cells": [
  {
   "cell_type": "code",
   "execution_count": null,
   "metadata": {},
   "outputs": [],
   "source": [
    "temp = input()\n",
    "temp = temp.split()\n",
    "\n",
    "n = int(temp[0])\n",
    "m = int(temp[1])\n",
    "\n",
    "roads = []\n",
    "\n",
    "for i in range(m):\n",
    "    roads.append(((int(j) for j in i.split()) for i in input()))\n",
    "\n",
    "class dsf:\n",
    "    def __init__(self, key):\n",
    "        self.key = key\n",
    "        self.parent = self\n",
    "\n",
    "    def find(self, a):\n",
    "        temp = a\n",
    "        while temp.key != temp.parent.key:\n",
    "            temp = temp.parent\n",
    "        return temp\n",
    "\n",
    "    def union(self, b):\n",
    "        root_a = self.find(self)\n",
    "        root_b = self.find(b)\n",
    "        if root_a.key < root_b.key:\n",
    "            root_b.parent = root_a\n",
    "            return root_a\n",
    "        else:\n",
    "            root_a.parent = root_b\n",
    "            return root_b\n",
    "\n",
    "keys = range(1, n+1)\n",
    "ds = {i:dsf(i) for i in keys}\n",
    "\n",
    "for i in roads:\n",
    "    ds[i[0]].union(ds[i[1]])\n",
    "\n",
    "for i in keys:\n",
    "    if disjoint_set[i] != 1:\n",
    "\n",
    "        print(f\"1 {i}\")"
   ]
  },
  {
   "cell_type": "code",
   "execution_count": null,
   "metadata": {},
   "outputs": [
    {
     "data": {
      "text/plain": [
       "<__main__.dsf at 0x7ce77c6923a0>"
      ]
     },
     "execution_count": 1,
     "metadata": {},
     "output_type": "execute_result"
    }
   ],
   "source": [
    "\n",
    "\n",
    "a = dsf(10)\n",
    "b = dsf(11)\n",
    "\n",
    "a.union(b)  # Correct usage of union"
   ]
  },
  {
   "cell_type": "code",
   "execution_count": 2,
   "metadata": {},
   "outputs": [
    {
     "data": {
      "text/plain": [
       "10"
      ]
     },
     "execution_count": 2,
     "metadata": {},
     "output_type": "execute_result"
    }
   ],
   "source": [
    "b.parent.key"
   ]
  },
  {
   "cell_type": "code",
   "execution_count": null,
   "metadata": {},
   "outputs": [],
   "source": []
  }
 ],
 "metadata": {
  "kernelspec": {
   "display_name": "om",
   "language": "python",
   "name": "python3"
  },
  "language_info": {
   "codemirror_mode": {
    "name": "ipython",
    "version": 3
   },
   "file_extension": ".py",
   "mimetype": "text/x-python",
   "name": "python",
   "nbconvert_exporter": "python",
   "pygments_lexer": "ipython3",
   "version": "3.9.19"
  }
 },
 "nbformat": 4,
 "nbformat_minor": 2
}
