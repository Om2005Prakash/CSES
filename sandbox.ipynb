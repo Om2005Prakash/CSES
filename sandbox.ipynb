{
 "cells": [
  {
   "cell_type": "code",
   "execution_count": 9,
   "metadata": {},
   "outputs": [],
   "source": [
    "from collections import deque\n",
    "\n",
    "class node:\n",
    "    def __init__(self, key):\n",
    "        self.key = key\n",
    "        self.parent = self\n",
    "\n",
    "n = 5\n",
    "m = 5\n",
    "\n",
    "nodes = [node(i) for i in range(0,n+1)]\n",
    "adj = [[], [2, 3, 4], [1, 3], [1, 2], [1, 5], [4]]\n",
    "\n",
    "s = 1\n",
    "e = 5\n",
    "\n",
    "queue = deque([s])\n",
    "seen = [0 for i in range(0,n+1)]\n",
    "\n",
    "while queue:\n",
    "    curr = queue.popleft()\n",
    "    for i in adj[curr]:\n",
    "        if seen[i] == 0:\n",
    "            seen[i] = 1\n",
    "            nodes[i].parent = curr\n",
    "            queue.append(i)\n",
    "            if i == e:\n",
    "                res = True\n",
    "else:\n",
    "    res = False\n",
    "\n",
    "# if res:\n",
    "#     back = nodes[n]\n",
    "#     length = 1\n",
    "#     temp = []\n",
    "#     while (back.key != 1):\n",
    "#         back = back.parent\n",
    "#         length += 1\n",
    "#         temp.append(back.key)\n",
    "#     print(length)\n",
    "#     print(\"1 \", end='')\n",
    "#     for i in reversed(temp):\n",
    "#         print(f\"{i} \", end='')\n",
    "# else:\n",
    "#     print(\"IMPOSSIBLE\")"
   ]
  },
  {
   "cell_type": "code",
   "execution_count": 8,
   "metadata": {},
   "outputs": [
    {
     "data": {
      "text/plain": [
       "5"
      ]
     },
     "execution_count": 8,
     "metadata": {},
     "output_type": "execute_result"
    }
   ],
   "source": [
    "i"
   ]
  },
  {
   "cell_type": "code",
   "execution_count": 11,
   "metadata": {},
   "outputs": [
    {
     "data": {
      "text/plain": [
       "[0, 1, 1, 1, 1, 1]"
      ]
     },
     "execution_count": 11,
     "metadata": {},
     "output_type": "execute_result"
    }
   ],
   "source": [
    "seen"
   ]
  },
  {
   "cell_type": "code",
   "execution_count": 10,
   "metadata": {},
   "outputs": [
    {
     "data": {
      "text/plain": [
       "False"
      ]
     },
     "execution_count": 10,
     "metadata": {},
     "output_type": "execute_result"
    }
   ],
   "source": [
    "res"
   ]
  },
  {
   "cell_type": "code",
   "execution_count": null,
   "metadata": {},
   "outputs": [],
   "source": []
  }
 ],
 "metadata": {
  "kernelspec": {
   "display_name": "om",
   "language": "python",
   "name": "python3"
  },
  "language_info": {
   "codemirror_mode": {
    "name": "ipython",
    "version": 3
   },
   "file_extension": ".py",
   "mimetype": "text/x-python",
   "name": "python",
   "nbconvert_exporter": "python",
   "pygments_lexer": "ipython3",
   "version": "3.9.19"
  }
 },
 "nbformat": 4,
 "nbformat_minor": 2
}
